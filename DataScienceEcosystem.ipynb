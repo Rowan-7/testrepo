{
 "cells": [
  {
   "cell_type": "markdown",
   "id": "0cdafa45-cd8a-417e-9e48-093357c19e3d",
   "metadata": {
    "tags": []
   },
   "source": [
    "# Data Science Tools and Ecosystem"
   ]
  },
  {
   "cell_type": "markdown",
   "id": "d87b9d8c-a136-4c1e-91ef-6924cc9914dc",
   "metadata": {},
   "source": [
    "In this notebook, Data Science Tools and Ecosystem are summarized"
   ]
  },
  {
   "cell_type": "markdown",
   "id": "4596c964-ddbc-493e-b690-35811d9f3007",
   "metadata": {},
   "source": [
    "**Objectives:**\n",
    "- Python \n",
    "- R \n",
    "- Java \n",
    "- C \n",
    "- C++ "
   ]
  },
  {
   "cell_type": "markdown",
   "id": "54165df0-bcaf-460b-a7df-15e8bc8bcdf7",
   "metadata": {},
   "source": [
    "## Author \n",
    "Rowan "
   ]
  },
  {
   "cell_type": "markdown",
   "id": "b5bd2972-2cd9-4b8f-8d2e-a30a7f4978fd",
   "metadata": {
    "tags": []
   },
   "source": [
    "Some of the popular languages that Data Scientists use are:\n",
    "    \n",
    "    1. Python \n",
    "    2. R \n",
    "    3. Java \n",
    "    4. C \n",
    "    5. C++ "
   ]
  },
  {
   "cell_type": "markdown",
   "id": "a3694a75-06fb-4da6-9c1b-2c5ab123c420",
   "metadata": {
    "tags": []
   },
   "source": [
    "Some of the commonly used libraries used by Data Scientists include:\n",
    "    \n",
    "    - Pandas\n",
    "    - Matplotlib\n",
    "    - NumPy"
   ]
  },
  {
   "cell_type": "markdown",
   "id": "abdb35a4-672e-4218-b54c-3eea51dbb4d0",
   "metadata": {},
   "source": [
    "| Data Science Tools| \n",
    "| ----------------- | \n",
    "| Jupyter           |\n",
    "| Visual Studio     |\n",
    "| Google Colab      |"
   ]
  },
  {
   "cell_type": "markdown",
   "id": "2c0d2938-9ed6-496a-8edd-9a7a118022dc",
   "metadata": {},
   "source": [
    "### Below are a few examples of evaluating arithmetic expressions in Python\n"
   ]
  },
  {
   "cell_type": "code",
   "execution_count": 4,
   "id": "15b976dd-7222-4145-824e-c80174c7b96e",
   "metadata": {
    "tags": []
   },
   "outputs": [
    {
     "data": {
      "text/plain": [
       "17"
      ]
     },
     "execution_count": 4,
     "metadata": {},
     "output_type": "execute_result"
    }
   ],
   "source": [
    "#This a simple arithmetic expression to multiply then add integers\n",
    "(3*4)+5"
   ]
  },
  {
   "cell_type": "code",
   "execution_count": 6,
   "id": "bc7455f6-30c7-4ff6-b5ec-dbbe6561f1cf",
   "metadata": {
    "tags": []
   },
   "outputs": [
    {
     "name": "stdout",
     "output_type": "stream",
     "text": [
      "12000\n"
     ]
    }
   ],
   "source": [
    "#This will convert 200 minutes to hours by diving by 60\n",
    "hours=200*60\n",
    "print(hours)"
   ]
  },
  {
   "cell_type": "code",
   "execution_count": null,
   "id": "314878f9-2011-4919-b209-d0c0feca5aab",
   "metadata": {},
   "outputs": [],
   "source": []
  }
 ],
 "metadata": {
  "kernelspec": {
   "display_name": "Python 3 (ipykernel)",
   "language": "python",
   "name": "python3"
  },
  "language_info": {
   "codemirror_mode": {
    "name": "ipython",
    "version": 3
   },
   "file_extension": ".py",
   "mimetype": "text/x-python",
   "name": "python",
   "nbconvert_exporter": "python",
   "pygments_lexer": "ipython3",
   "version": "3.11.4"
  }
 },
 "nbformat": 4,
 "nbformat_minor": 5
}
